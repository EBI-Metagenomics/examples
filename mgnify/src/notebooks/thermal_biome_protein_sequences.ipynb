{
 "cells": [
  {
   "cell_type": "markdown",
   "source": [
    "# How to download protein sequences from metagenomes belonging to thermal environment\n",
    "\n",
    "User request:\n",
    "```\n",
    "I would like to download protein sequences from metagenomes belonging to thermal environment. Is there any way that this can be acheived.\n",
    "```"
   ],
   "metadata": {}
  },
  {
   "cell_type": "code",
   "execution_count": 27,
   "source": [
    "# Requirements\n",
    "!pip install requests"
   ],
   "outputs": [
    {
     "output_type": "stream",
     "name": "stdout",
     "text": [
      "Requirement already satisfied: requests in /home/mbc/software/miniconda3/envs/jupyter/lib/python3.8/site-packages (2.26.0)\n",
      "Requirement already satisfied: urllib3<1.27,>=1.21.1 in /home/mbc/software/miniconda3/envs/jupyter/lib/python3.8/site-packages (from requests) (1.26.6)\n",
      "Requirement already satisfied: charset-normalizer~=2.0.0 in /home/mbc/software/miniconda3/envs/jupyter/lib/python3.8/site-packages (from requests) (2.0.4)\n",
      "Requirement already satisfied: idna<4,>=2.5 in /home/mbc/software/miniconda3/envs/jupyter/lib/python3.8/site-packages (from requests) (3.2)\n",
      "Requirement already satisfied: certifi>=2017.4.17 in /home/mbc/software/miniconda3/envs/jupyter/lib/python3.8/site-packages (from requests) (2021.5.30)\n"
     ]
    }
   ],
   "metadata": {
    "scrolled": true
   }
  },
  {
   "cell_type": "markdown",
   "source": [
    "## Obtain the analysis for freshwater"
   ],
   "metadata": {}
  },
  {
   "cell_type": "code",
   "execution_count": 28,
   "source": [
    "import requests\n",
    "import csv\n",
    "\n",
    "API = \"https://www.ebi.ac.uk/metagenomics/api/v1\"\n",
    "\n",
    "\n",
    "def fetch(data_bag, url=\"\"):\n",
    "    if not url:\n",
    "        # first request - note the filters\n",
    "        print(f\"fetching: the first page\")\n",
    "        response = requests.get(\n",
    "            API + \"/studies\",\n",
    "            params={\"lineage\": \"root:Environmental:Aquatic:Marine:Hydrothermal vents\"},\n",
    "        )\n",
    "    else:\n",
    "        response = requests.get(url)\n",
    "\n",
    "    response_data = response.json()\n",
    "    next_url = response_data.get(\"links\", {}).get(\"next\")\n",
    "\n",
    "    # Each study response data\n",
    "    \"\"\"\n",
    "    \"bioproject\": \"PRJEB22514\",\n",
    "    \"samples-count\": 5,\n",
    "    \"accession\": \"MGYS00002034\",\n",
    "    \"secondary-accession\": \"ERP104195\",\n",
    "    \"centre-name\": \"EMBL-EBI\",\n",
    "    \"is-public\": true,\n",
    "    \"public-release-date\": null,\n",
    "    \"study-abstract\": \"The 2014 'Omics from the diffuse hydrothermal ...\",\n",
    "    \"data-origination\": \"SUBMITTED\",\n",
    "    \"last-update\": \"2020-05-13T17:05:03\"\n",
    "    \"\"\"\n",
    "    data_bag.extend([entry.get(\"attributes\") for entry in response_data.get(\"data\")])\n",
    "\n",
    "    # keep getting the accessions\n",
    "    if next_url:\n",
    "        print(f\"fetching: {next_url}\")\n",
    "        fetch(data_bag, next_url)\n",
    "\n",
    "\n",
    "# start the fetch process\n",
    "data_bag = []\n",
    "fetch(data_bag)\n",
    "\n",
    "with open(\"hydrothermal_vents_studies.tsv\", \"w\") as fhandle:\n",
    "    writer = csv.writer(fhandle, delimiter=\"\\t\")\n",
    "    # any other piece of information you may want to include\n",
    "    writer.writerow([\"accession\", \"bioproject\", \"study-abstract\"])\n",
    "    for study in data_bag:\n",
    "        writer.writerow(\n",
    "            [\n",
    "                study.get(\"accession\"),\n",
    "                study.get(\"bioproject\"),\n",
    "                study.get(\"study-abstract\"),\n",
    "            ]\n",
    "        )\n"
   ],
   "outputs": [
    {
     "output_type": "stream",
     "name": "stdout",
     "text": [
      "fetching: the first page\n",
      "fetching: https://www.ebi.ac.uk/metagenomics/api/v1/studies?lineage=root%3AEnvironmental%3AAquatic%3AMarine%3AHydrothermal+vents&page=2\n"
     ]
    }
   ],
   "metadata": {}
  },
  {
   "cell_type": "markdown",
   "source": [
    "# Use the mg-toolkit to download the files\n",
    "\n",
    "Even though it' possible to download the protein files using the REST API. We recommend the mg-toolkit as it has some extra features that are handy.\n",
    "\n",
    "Follow the instruction to install it: \"https://github.com/EBI-Metagenomics/emg-toolkit\"\n",
    "\n",
    "    $ tail -n +2 hydrothermal_vents_studies.tsv | cut -f 1 | xargs -I {} mg-toolkit -d bulk_download -a {} -g sequence_data\n",
    "\n",
    "Breakdown of the one-liner:\n",
    "- tail -n +2 to skip the header\n",
    "- cut -f to get the accession\n",
    "- xargs to pass the argument to the mg-toolkit\n",
    "\n",
    "The files for each study will be stored in a folder named MGYSXXXX."
   ],
   "metadata": {}
  }
 ],
 "metadata": {
  "kernelspec": {
   "name": "python3",
   "display_name": "Python 3.8.11 64-bit ('jupyter': conda)"
  },
  "language_info": {
   "codemirror_mode": {
    "name": "ipython",
    "version": 3
   },
   "file_extension": ".py",
   "mimetype": "text/x-python",
   "name": "python",
   "nbconvert_exporter": "python",
   "pygments_lexer": "ipython3",
   "version": "3.8.11"
  },
  "interpreter": {
   "hash": "e22114dd69ae36e1858d1ffd46fc19771135cfc55b9f84e388743fa5b85ef9bd"
  }
 },
 "nbformat": 4,
 "nbformat_minor": 5
}