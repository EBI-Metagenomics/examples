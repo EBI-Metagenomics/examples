{
 "cells": [
  {
   "cell_type": "markdown",
   "id": "b7e27d73",
   "metadata": {},
   "source": [
    "# How to obtain the OTU tables for freshwater analyses\n",
    "\n",
    "User request:\n",
    "```\n",
    "I want to download OTU table in biom format of each analysis in freshwater, I am wondering how to obtain them by API.\n",
    "```"
   ]
  },
  {
   "cell_type": "code",
   "execution_count": 20,
   "id": "cf042ff9",
   "metadata": {
    "scrolled": true
   },
   "outputs": [
    {
     "name": "stdout",
     "output_type": "stream",
     "text": [
      "Requirement already satisfied: requests in /home/mbc/software/miniconda3/envs/jupyter/lib/python3.8/site-packages (2.26.0)\r\n",
      "Requirement already satisfied: certifi>=2017.4.17 in /home/mbc/software/miniconda3/envs/jupyter/lib/python3.8/site-packages (from requests) (2021.5.30)\r\n",
      "Requirement already satisfied: urllib3<1.27,>=1.21.1 in /home/mbc/software/miniconda3/envs/jupyter/lib/python3.8/site-packages (from requests) (1.26.6)\r\n",
      "Requirement already satisfied: idna<4,>=2.5 in /home/mbc/software/miniconda3/envs/jupyter/lib/python3.8/site-packages (from requests) (3.2)\r\n",
      "Requirement already satisfied: charset-normalizer~=2.0.0 in /home/mbc/software/miniconda3/envs/jupyter/lib/python3.8/site-packages (from requests) (2.0.4)\r\n"
     ]
    }
   ],
   "source": [
    "# Requirements\n",
    "!pip install requests"
   ]
  },
  {
   "cell_type": "markdown",
   "id": "280afcfa",
   "metadata": {},
   "source": [
    "## Obtain the analysis for freshwater"
   ]
  },
  {
   "cell_type": "code",
   "execution_count": 21,
   "id": "43d0bfba",
   "metadata": {},
   "outputs": [
    {
     "name": "stdout",
     "output_type": "stream",
     "text": [
      "fetching: https://www.ebi.ac.uk/metagenomics/api/v1/analyses?experiment_type=amplicon&lineage=root%3AEnvironmental%3AAquatic%3AFreshwater&page=2\n",
      "fetching: https://www.ebi.ac.uk/metagenomics/api/v1/analyses?experiment_type=amplicon&lineage=root%3AEnvironmental%3AAquatic%3AFreshwater&page=3\n",
      "fetching: https://www.ebi.ac.uk/metagenomics/api/v1/analyses?experiment_type=amplicon&lineage=root%3AEnvironmental%3AAquatic%3AFreshwater&page=4\n"
     ]
    }
   ],
   "source": [
    "import requests\n",
    "import csv\n",
    "\n",
    "API = \"https://www.ebi.ac.uk/metagenomics/api/v1\"\n",
    "\n",
    "def fetch(analyses_accessions, url=\"\"):\n",
    "    if not url:\n",
    "        # First request!\n",
    "        # Note the filters\n",
    "        response = requests.get(API + \"/analyses\", params={\n",
    "            \"lineage\": \"root:Environmental:Aquatic:Freshwater\",\n",
    "            \"experiment_type\": \"amplicon\"\n",
    "        })\n",
    "    else:\n",
    "        response = requests.get(url)\n",
    "\n",
    "    response_data = response.json()\n",
    "    next_url = response_data.get('links', {}).get('next')\n",
    "\n",
    "    for entry in response_data.get('data'):\n",
    "        analyses_accessions.append(entry.get('id'))\n",
    "    \n",
    "    # keep getting the accessions\n",
    "    if next_url and \"page=5\" not in next_url: # artifical stop in page 5\n",
    "        print(f\"fetching: {next_url}\")\n",
    "        fetch(analyses_accessions, next_url)\n",
    "\n",
    "# start the fetch process\n",
    "analyses_accessions = []\n",
    "fetch(analyses_accessions)"
   ]
  },
  {
   "cell_type": "markdown",
   "id": "2b61b3ca",
   "metadata": {},
   "source": [
    "## Get the download links for the .biom files"
   ]
  },
  {
   "cell_type": "code",
   "execution_count": 22,
   "id": "5f695039",
   "metadata": {},
   "outputs": [
    {
     "name": "stdout",
     "output_type": "stream",
     "text": [
      "Getting download files for MGYA00429528\n",
      "https://www.ebi.ac.uk/metagenomics/api/v1/analyses/MGYA00429528/file/ERR1553864_FASTQ_SSU_OTU_TABLE_HDF5.biom\n",
      "https://www.ebi.ac.uk/metagenomics/api/v1/analyses/MGYA00429528/file/ERR1553864_FASTQ_SSU_OTU_TABLE_JSON.biom\n",
      "https://www.ebi.ac.uk/metagenomics/api/v1/analyses/MGYA00429528/file/ERR1553864_FASTQ_ITS_ITSoneDB_OTU_TABLE_HDF5.biom\n",
      "https://www.ebi.ac.uk/metagenomics/api/v1/analyses/MGYA00429528/file/ERR1553864_FASTQ_ITS_ITSoneDB_OTU_TABLE_JSON.biom\n",
      "https://www.ebi.ac.uk/metagenomics/api/v1/analyses/MGYA00429528/file/ERR1553864_FASTQ_ITS_UNITE_OTU_TABLE_HDF5.biom\n",
      "https://www.ebi.ac.uk/metagenomics/api/v1/analyses/MGYA00429528/file/ERR1553864_FASTQ_ITS_UNITE_OTU_TABLE_JSON.biom\n"
     ]
    }
   ],
   "source": [
    "# Now we need to go one more level to the download files for the analysis\n",
    "for accession in analyses_accessions:\n",
    "    print(f\"Getting download files for {accession}\")\n",
    "    response = requests.get(API + \"/analyses/\" + accession + \"/downloads\")\n",
    "    for download_entry in response.json().get(\"data\"):\n",
    "        attrs = download_entry.get(\"attributes\")\n",
    "        if attrs.get(\"file-format\").get(\"extension\") == \"biom\":\n",
    "            # URL of the file\n",
    "            print(download_entry.get(\"links\").get(\"self\"))\n",
    "    break # artifical interruption"
   ]
  },
  {
   "cell_type": "code",
   "execution_count": null,
   "id": "2025bc99",
   "metadata": {},
   "outputs": [],
   "source": []
  }
 ],
 "metadata": {
  "kernelspec": {
   "display_name": "Python 3 (ipykernel)",
   "language": "python",
   "name": "python3"
  },
  "language_info": {
   "codemirror_mode": {
    "name": "ipython",
    "version": 3
   },
   "file_extension": ".py",
   "mimetype": "text/x-python",
   "name": "python",
   "nbconvert_exporter": "python",
   "pygments_lexer": "ipython3",
   "version": "3.8.11"
  }
 },
 "nbformat": 4,
 "nbformat_minor": 5
}
